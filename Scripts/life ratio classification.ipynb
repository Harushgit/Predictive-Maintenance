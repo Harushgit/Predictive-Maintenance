{
 "cells": [
  {
   "cell_type": "code",
   "execution_count": 1,
   "id": "e1a4e248",
   "metadata": {},
   "outputs": [],
   "source": [
    "import numpy as np\n",
    "import pandas as pd\n",
    "from sklearn.model_selection import train_test_split\n",
    "from sklearn.ensemble import RandomForestClassifier\n",
    "from sklearn.svm import SVC\n",
    "from sklearn.linear_model import LogisticRegression\n",
    "from sklearn.metrics import classification_report, accuracy_score\n",
    "import xgboost as xgb\n",
    "from sklearn.preprocessing import MinMaxScaler\n",
    "import matplotlib.pyplot as plt\n",
    "import seaborn as sns"
   ]
  },
  {
   "cell_type": "code",
   "execution_count": 2,
   "id": "a65c0db9",
   "metadata": {},
   "outputs": [],
   "source": [
    "data = pd.read_csv(r'C:\\Users\\njhar\\Downloads\\test_FD001.txt', sep=\" \")"
   ]
  },
  {
   "cell_type": "code",
   "execution_count": 3,
   "id": "5043a400",
   "metadata": {},
   "outputs": [],
   "source": [
    "\n",
    "data.drop(columns=['Unnamed: 26','Unnamed: 27'],inplace=True)\n"
   ]
  },
  {
   "cell_type": "code",
   "execution_count": 4,
   "id": "d6ae88dd",
   "metadata": {},
   "outputs": [],
   "source": [
    "# This is for Train and Test data\n",
    "\n",
    "index_names = ['engine', 'cycles']\n",
    "setting_names = ['setting_1', 'setting_2', 'setting_3']\n",
    "sensor_names= ['s1',\n",
    "               's2',\n",
    "               's3',\n",
    "               's4',\n",
    "               's5',\n",
    "               's6',\n",
    "               's7',\n",
    "               's8',\n",
    "               's9',\n",
    "               's10',\n",
    "               's11',\n",
    "               's12',\n",
    "               's13',\n",
    "               's14',\n",
    "               's15',\n",
    "               's16',\n",
    "               's17',\n",
    "               's18',\n",
    "               's19',\n",
    "               's20',\n",
    "               's21']\n",
    "col_names = index_names + setting_names + sensor_names"
   ]
  },
  {
   "cell_type": "code",
   "execution_count": 5,
   "id": "51461b54",
   "metadata": {},
   "outputs": [],
   "source": [
    "\n",
    "data.columns = col_names\n"
   ]
  },
  {
   "cell_type": "code",
   "execution_count": 6,
   "id": "274b0805",
   "metadata": {},
   "outputs": [
    {
     "name": "stdout",
     "output_type": "stream",
     "text": [
      "['setting_3', 's1', 's5', 's10', 's16', 's18', 's19']\n"
     ]
    }
   ],
   "source": [
    "# Dropping sensors from the Test data\n",
    "test_unwanted=[]\n",
    "for i in data.select_dtypes(include=np.number):\n",
    "    if data[i].nunique()==1:\n",
    "        test_unwanted.append(i)\n",
    "print(test_unwanted)"
   ]
  },
  {
   "cell_type": "code",
   "execution_count": 7,
   "id": "e6ec1726",
   "metadata": {},
   "outputs": [],
   "source": [
    "# so we will drop such columns\n",
    "\n",
    "data.drop(columns=test_unwanted, inplace=True)"
   ]
  },
  {
   "cell_type": "code",
   "execution_count": 8,
   "id": "82695bf7",
   "metadata": {},
   "outputs": [
    {
     "data": {
      "text/plain": [
       "303"
      ]
     },
     "execution_count": 8,
     "metadata": {},
     "output_type": "execute_result"
    }
   ],
   "source": [
    "data['cycles'].max()"
   ]
  },
  {
   "cell_type": "code",
   "execution_count": 9,
   "id": "f6d19bff",
   "metadata": {},
   "outputs": [
    {
     "data": {
      "text/html": [
       "<div>\n",
       "<style scoped>\n",
       "    .dataframe tbody tr th:only-of-type {\n",
       "        vertical-align: middle;\n",
       "    }\n",
       "\n",
       "    .dataframe tbody tr th {\n",
       "        vertical-align: top;\n",
       "    }\n",
       "\n",
       "    .dataframe thead th {\n",
       "        text-align: right;\n",
       "    }\n",
       "</style>\n",
       "<table border=\"1\" class=\"dataframe\">\n",
       "  <thead>\n",
       "    <tr style=\"text-align: right;\">\n",
       "      <th></th>\n",
       "      <th>life</th>\n",
       "    </tr>\n",
       "    <tr>\n",
       "      <th>engine</th>\n",
       "      <th></th>\n",
       "    </tr>\n",
       "  </thead>\n",
       "  <tbody>\n",
       "    <tr>\n",
       "      <th>1</th>\n",
       "      <td>31</td>\n",
       "    </tr>\n",
       "    <tr>\n",
       "      <th>2</th>\n",
       "      <td>49</td>\n",
       "    </tr>\n",
       "    <tr>\n",
       "      <th>3</th>\n",
       "      <td>126</td>\n",
       "    </tr>\n",
       "    <tr>\n",
       "      <th>4</th>\n",
       "      <td>106</td>\n",
       "    </tr>\n",
       "    <tr>\n",
       "      <th>5</th>\n",
       "      <td>98</td>\n",
       "    </tr>\n",
       "  </tbody>\n",
       "</table>\n",
       "</div>"
      ],
      "text/plain": [
       "        life\n",
       "engine      \n",
       "1         31\n",
       "2         49\n",
       "3        126\n",
       "4        106\n",
       "5         98"
      ]
     },
     "execution_count": 9,
     "metadata": {},
     "output_type": "execute_result"
    }
   ],
   "source": [
    "data_train_RUL = data.groupby(['engine']).agg({'cycles':'max'})\n",
    "data_train_RUL.rename(columns={'cycles':'life'},inplace=True)\n",
    "data_train_RUL.head()"
   ]
  },
  {
   "cell_type": "code",
   "execution_count": 10,
   "id": "90152959",
   "metadata": {},
   "outputs": [],
   "source": [
    "data_train = data.merge(data_train_RUL,how='left',on=['engine'])"
   ]
  },
  {
   "cell_type": "code",
   "execution_count": 11,
   "id": "807afb85",
   "metadata": {},
   "outputs": [],
   "source": [
    "data_train['RUL'] = data_train['life'] - data_train['cycles']\n",
    "data_train.drop(['life'],axis=1,inplace=True)"
   ]
  },
  {
   "cell_type": "code",
   "execution_count": 12,
   "id": "b63c7f38",
   "metadata": {},
   "outputs": [
    {
     "data": {
      "text/html": [
       "<div>\n",
       "<style scoped>\n",
       "    .dataframe tbody tr th:only-of-type {\n",
       "        vertical-align: middle;\n",
       "    }\n",
       "\n",
       "    .dataframe tbody tr th {\n",
       "        vertical-align: top;\n",
       "    }\n",
       "\n",
       "    .dataframe thead th {\n",
       "        text-align: right;\n",
       "    }\n",
       "</style>\n",
       "<table border=\"1\" class=\"dataframe\">\n",
       "  <thead>\n",
       "    <tr style=\"text-align: right;\">\n",
       "      <th></th>\n",
       "      <th>engine</th>\n",
       "      <th>cycles</th>\n",
       "      <th>setting_1</th>\n",
       "      <th>setting_2</th>\n",
       "      <th>s2</th>\n",
       "      <th>s3</th>\n",
       "      <th>s4</th>\n",
       "      <th>s6</th>\n",
       "      <th>s7</th>\n",
       "      <th>s8</th>\n",
       "      <th>s9</th>\n",
       "      <th>s11</th>\n",
       "      <th>s12</th>\n",
       "      <th>s13</th>\n",
       "      <th>s14</th>\n",
       "      <th>s15</th>\n",
       "      <th>s17</th>\n",
       "      <th>s20</th>\n",
       "      <th>s21</th>\n",
       "      <th>RUL</th>\n",
       "    </tr>\n",
       "  </thead>\n",
       "  <tbody>\n",
       "    <tr>\n",
       "      <th>0</th>\n",
       "      <td>1</td>\n",
       "      <td>2</td>\n",
       "      <td>-0.0027</td>\n",
       "      <td>-0.0003</td>\n",
       "      <td>641.71</td>\n",
       "      <td>1588.45</td>\n",
       "      <td>1395.42</td>\n",
       "      <td>21.61</td>\n",
       "      <td>554.85</td>\n",
       "      <td>2388.01</td>\n",
       "      <td>9054.42</td>\n",
       "      <td>47.50</td>\n",
       "      <td>522.16</td>\n",
       "      <td>2388.06</td>\n",
       "      <td>8139.62</td>\n",
       "      <td>8.3803</td>\n",
       "      <td>393</td>\n",
       "      <td>39.02</td>\n",
       "      <td>23.3916</td>\n",
       "      <td>29</td>\n",
       "    </tr>\n",
       "    <tr>\n",
       "      <th>1</th>\n",
       "      <td>1</td>\n",
       "      <td>3</td>\n",
       "      <td>0.0003</td>\n",
       "      <td>0.0001</td>\n",
       "      <td>642.46</td>\n",
       "      <td>1586.94</td>\n",
       "      <td>1401.34</td>\n",
       "      <td>21.61</td>\n",
       "      <td>554.11</td>\n",
       "      <td>2388.05</td>\n",
       "      <td>9056.96</td>\n",
       "      <td>47.50</td>\n",
       "      <td>521.97</td>\n",
       "      <td>2388.03</td>\n",
       "      <td>8130.10</td>\n",
       "      <td>8.4441</td>\n",
       "      <td>393</td>\n",
       "      <td>39.08</td>\n",
       "      <td>23.4166</td>\n",
       "      <td>28</td>\n",
       "    </tr>\n",
       "    <tr>\n",
       "      <th>2</th>\n",
       "      <td>1</td>\n",
       "      <td>4</td>\n",
       "      <td>0.0042</td>\n",
       "      <td>0.0000</td>\n",
       "      <td>642.44</td>\n",
       "      <td>1584.12</td>\n",
       "      <td>1406.42</td>\n",
       "      <td>21.61</td>\n",
       "      <td>554.07</td>\n",
       "      <td>2388.03</td>\n",
       "      <td>9045.29</td>\n",
       "      <td>47.28</td>\n",
       "      <td>521.38</td>\n",
       "      <td>2388.05</td>\n",
       "      <td>8132.90</td>\n",
       "      <td>8.3917</td>\n",
       "      <td>391</td>\n",
       "      <td>39.00</td>\n",
       "      <td>23.3737</td>\n",
       "      <td>27</td>\n",
       "    </tr>\n",
       "    <tr>\n",
       "      <th>3</th>\n",
       "      <td>1</td>\n",
       "      <td>5</td>\n",
       "      <td>0.0014</td>\n",
       "      <td>0.0000</td>\n",
       "      <td>642.51</td>\n",
       "      <td>1587.19</td>\n",
       "      <td>1401.92</td>\n",
       "      <td>21.61</td>\n",
       "      <td>554.16</td>\n",
       "      <td>2388.01</td>\n",
       "      <td>9044.55</td>\n",
       "      <td>47.31</td>\n",
       "      <td>522.15</td>\n",
       "      <td>2388.03</td>\n",
       "      <td>8129.54</td>\n",
       "      <td>8.4031</td>\n",
       "      <td>390</td>\n",
       "      <td>38.99</td>\n",
       "      <td>23.4130</td>\n",
       "      <td>26</td>\n",
       "    </tr>\n",
       "    <tr>\n",
       "      <th>4</th>\n",
       "      <td>1</td>\n",
       "      <td>6</td>\n",
       "      <td>0.0012</td>\n",
       "      <td>0.0003</td>\n",
       "      <td>642.11</td>\n",
       "      <td>1579.12</td>\n",
       "      <td>1395.13</td>\n",
       "      <td>21.61</td>\n",
       "      <td>554.22</td>\n",
       "      <td>2388.00</td>\n",
       "      <td>9050.96</td>\n",
       "      <td>47.26</td>\n",
       "      <td>521.92</td>\n",
       "      <td>2388.08</td>\n",
       "      <td>8127.46</td>\n",
       "      <td>8.4238</td>\n",
       "      <td>392</td>\n",
       "      <td>38.91</td>\n",
       "      <td>23.3467</td>\n",
       "      <td>25</td>\n",
       "    </tr>\n",
       "  </tbody>\n",
       "</table>\n",
       "</div>"
      ],
      "text/plain": [
       "   engine  cycles  setting_1  setting_2      s2       s3       s4     s6  \\\n",
       "0       1       2    -0.0027    -0.0003  641.71  1588.45  1395.42  21.61   \n",
       "1       1       3     0.0003     0.0001  642.46  1586.94  1401.34  21.61   \n",
       "2       1       4     0.0042     0.0000  642.44  1584.12  1406.42  21.61   \n",
       "3       1       5     0.0014     0.0000  642.51  1587.19  1401.92  21.61   \n",
       "4       1       6     0.0012     0.0003  642.11  1579.12  1395.13  21.61   \n",
       "\n",
       "       s7       s8       s9    s11     s12      s13      s14     s15  s17  \\\n",
       "0  554.85  2388.01  9054.42  47.50  522.16  2388.06  8139.62  8.3803  393   \n",
       "1  554.11  2388.05  9056.96  47.50  521.97  2388.03  8130.10  8.4441  393   \n",
       "2  554.07  2388.03  9045.29  47.28  521.38  2388.05  8132.90  8.3917  391   \n",
       "3  554.16  2388.01  9044.55  47.31  522.15  2388.03  8129.54  8.4031  390   \n",
       "4  554.22  2388.00  9050.96  47.26  521.92  2388.08  8127.46  8.4238  392   \n",
       "\n",
       "     s20      s21  RUL  \n",
       "0  39.02  23.3916   29  \n",
       "1  39.08  23.4166   28  \n",
       "2  39.00  23.3737   27  \n",
       "3  38.99  23.4130   26  \n",
       "4  38.91  23.3467   25  "
      ]
     },
     "execution_count": 12,
     "metadata": {},
     "output_type": "execute_result"
    }
   ],
   "source": [
    "data_train.head()"
   ]
  },
  {
   "cell_type": "code",
   "execution_count": 13,
   "id": "4733c470",
   "metadata": {},
   "outputs": [],
   "source": [
    "# Example: Select relevant sensor data and the operational settings\n",
    "features = data_train[['setting_1', 'setting_2',\n",
    "               's2',\n",
    "               's3',\n",
    "               's4',\n",
    "               's6',\n",
    "               's7',\n",
    "               's8',\n",
    "               's9',\n",
    "               's11',\n",
    "               's12',\n",
    "               's13',\n",
    "               's14',\n",
    "               's15',\n",
    "               's17',\n",
    "               's20',\n",
    "               's21']]\n",
    "target = data_train['RUL']  # RUL = Remaining Useful Life (assumed to be in the dataset)"
   ]
  },
  {
   "cell_type": "code",
   "execution_count": 14,
   "id": "7cfd674f",
   "metadata": {},
   "outputs": [],
   "source": [
    "# Normalize the features\n",
    "scaler = MinMaxScaler()\n",
    "scaled_features = scaler.fit_transform(features)"
   ]
  },
  {
   "cell_type": "code",
   "execution_count": 15,
   "id": "f2760899",
   "metadata": {},
   "outputs": [],
   "source": [
    "# Convert RUL to Life Ratio\n",
    "data_train['Life_Ratio'] = 1 - data_train['RUL'] / data_train.groupby('engine')['RUL'].transform('max')"
   ]
  },
  {
   "cell_type": "code",
   "execution_count": 16,
   "id": "c3afe142",
   "metadata": {},
   "outputs": [],
   "source": [
    "# Define classification labels based on Life Ratio\n",
    "def classify_life_ratio(life_ratio):\n",
    "    if life_ratio < 0.7:\n",
    "        return 0  # Safe\n",
    "    elif 0.7 <= life_ratio < 0.9:\n",
    "        return 1  # Warning\n",
    "    else:\n",
    "        return 2  # Critical\n",
    "\n",
    "data_train['Life_Class'] = data_train['Life_Ratio'].apply(classify_life_ratio)\n",
    "\n",
    "# Splitting the data into training and testing\n",
    "X_train, X_test, y_train, y_test = train_test_split(scaled_features, data_train['Life_Class'], test_size=0.2, random_state=42)"
   ]
  },
  {
   "cell_type": "code",
   "execution_count": 17,
   "id": "67d0bad4",
   "metadata": {},
   "outputs": [
    {
     "name": "stdout",
     "output_type": "stream",
     "text": [
      "Random Forest Classification Report:\n",
      "              precision    recall  f1-score   support\n",
      "\n",
      "           0       0.77      0.97      0.86      1821\n",
      "           1       0.55      0.24      0.34       524\n",
      "           2       0.71      0.27      0.40       274\n",
      "\n",
      "    accuracy                           0.75      2619\n",
      "   macro avg       0.68      0.50      0.53      2619\n",
      "weighted avg       0.72      0.75      0.71      2619\n",
      "\n",
      "Accuracy: 0.7522\n"
     ]
    }
   ],
   "source": [
    "# Random Forest\n",
    "rf_model = RandomForestClassifier(n_estimators=100, random_state=42)\n",
    "rf_model.fit(X_train, y_train)\n",
    "rf_pred = rf_model.predict(X_test)\n",
    "\n",
    "# Evaluation\n",
    "print(\"Random Forest Classification Report:\")\n",
    "print(classification_report(y_test, rf_pred))\n",
    "print(f\"Accuracy: {accuracy_score(y_test, rf_pred):.4f}\")\n"
   ]
  },
  {
   "cell_type": "code",
   "execution_count": 18,
   "id": "8f5741c4",
   "metadata": {},
   "outputs": [
    {
     "name": "stdout",
     "output_type": "stream",
     "text": [
      "XGBoost Classification Report:\n",
      "              precision    recall  f1-score   support\n",
      "\n",
      "           0       0.77      0.95      0.85      1821\n",
      "           1       0.48      0.26      0.34       524\n",
      "           2       0.69      0.27      0.39       274\n",
      "\n",
      "    accuracy                           0.74      2619\n",
      "   macro avg       0.65      0.49      0.53      2619\n",
      "weighted avg       0.71      0.74      0.70      2619\n",
      "\n",
      "Accuracy: 0.7384\n"
     ]
    }
   ],
   "source": [
    "# XGBoost\n",
    "xgb_model = xgb.XGBClassifier(objective='multi:softmax', num_class=3, eval_metric='mlogloss', random_state=42)\n",
    "xgb_model.fit(X_train, y_train)\n",
    "xgb_pred = xgb_model.predict(X_test)\n",
    "\n",
    "# Evaluation\n",
    "print(\"XGBoost Classification Report:\")\n",
    "print(classification_report(y_test, xgb_pred))\n",
    "print(f\"Accuracy: {accuracy_score(y_test, xgb_pred):.4f}\")"
   ]
  },
  {
   "cell_type": "code",
   "execution_count": 19,
   "id": "936ab146",
   "metadata": {},
   "outputs": [
    {
     "name": "stdout",
     "output_type": "stream",
     "text": [
      "SVM Classification Report:\n",
      "              precision    recall  f1-score   support\n",
      "\n",
      "           0       0.74      1.00      0.85      1821\n",
      "           1       0.61      0.14      0.23       524\n",
      "           2       0.88      0.16      0.28       274\n",
      "\n",
      "    accuracy                           0.74      2619\n",
      "   macro avg       0.74      0.43      0.45      2619\n",
      "weighted avg       0.73      0.74      0.67      2619\n",
      "\n",
      "Accuracy: 0.7392\n"
     ]
    }
   ],
   "source": [
    "# Support Vector Classifier\n",
    "svc_model = SVC(kernel='linear', random_state=42)\n",
    "svc_model.fit(X_train, y_train)\n",
    "svc_pred = svc_model.predict(X_test)\n",
    "\n",
    "# Evaluation\n",
    "print(\"SVM Classification Report:\")\n",
    "print(classification_report(y_test, svc_pred))\n",
    "print(f\"Accuracy: {accuracy_score(y_test, svc_pred):.4f}\")\n"
   ]
  },
  {
   "cell_type": "code",
   "execution_count": 20,
   "id": "eb2d2620",
   "metadata": {},
   "outputs": [
    {
     "name": "stdout",
     "output_type": "stream",
     "text": [
      "Logistic Regression Classification Report:\n",
      "              precision    recall  f1-score   support\n",
      "\n",
      "           0       0.76      0.98      0.86      1821\n",
      "           1       0.54      0.15      0.24       524\n",
      "           2       0.65      0.25      0.36       274\n",
      "\n",
      "    accuracy                           0.74      2619\n",
      "   macro avg       0.65      0.46      0.49      2619\n",
      "weighted avg       0.70      0.74      0.68      2619\n",
      "\n",
      "Accuracy: 0.7411\n"
     ]
    }
   ],
   "source": [
    "# Logistic Regression\n",
    "lr_model = LogisticRegression(multi_class='ovr', solver='liblinear', random_state=42)\n",
    "lr_model.fit(X_train, y_train)\n",
    "lr_pred = lr_model.predict(X_test)\n",
    "\n",
    "# Evaluation\n",
    "print(\"Logistic Regression Classification Report:\")\n",
    "print(classification_report(y_test, lr_pred))\n",
    "print(f\"Accuracy: {accuracy_score(y_test, lr_pred):.4f}\")\n"
   ]
  },
  {
   "cell_type": "code",
   "execution_count": 21,
   "id": "5d9eb633",
   "metadata": {},
   "outputs": [
    {
     "data": {
      "image/png": "[encoded data removed]",
      "text/plain": [
       "<Figure size 640x480 with 1 Axes>"
      ]
     },
     "metadata": {},
     "output_type": "display_data"
    }
   ],
   "source": [
    "# Compare accuracy across models\n",
    "results = {\n",
    "    'Random Forest': accuracy_score(y_test, rf_pred),\n",
    "    'XGBoost': accuracy_score(y_test, xgb_pred),\n",
    "    'SVM': accuracy_score(y_test, svc_pred),\n",
    "    'Logistic Regression': accuracy_score(y_test, lr_pred)\n",
    "}\n",
    "\n",
    "# Plot the results\n",
    "sns.barplot(x=list(results.keys()), y=list(results.values()))\n",
    "plt.title(\"Accuracy Comparison of Classification Models\")\n",
    "plt.ylabel(\"Accuracy\")\n",
    "plt.show()"
   ]
  },
  {
   "cell_type": "code",
   "execution_count": 23,
   "id": "50e9cef6",
   "metadata": {},
   "outputs": [
    {
     "name": "stdout",
     "output_type": "stream",
     "text": [
      "Available models:\n",
      "1. Random Forest\n",
      "2. XGBoost\n",
      "3. SVM\n",
      "4. Logistic Regression\n",
      "Select models (comma-separated numbers, e.g., 1,2): 3\n",
      "Enter Engine ID to test: 4\n"
     ]
    }
   ],
   "source": [
    "# Function to classify a specific engine using the trained models\n",
    "def classify_engine(engine_id, engine_data, models):\n",
    "    # Filter data for the specific engine\n",
    "    specific_engine_data = data_train[data_train['engine'] == engine_id]\n",
    "    \n",
    "    # Preprocess the features as done before (scaling)\n",
    "    specific_engine_features = specific_engine_data[['setting_1', 'setting_2',\n",
    "               's2',\n",
    "               's3',\n",
    "               's4',\n",
    "               's6',\n",
    "               's7',\n",
    "               's8',\n",
    "               's9',\n",
    "               's11',\n",
    "               's12',\n",
    "               's13',\n",
    "               's14',\n",
    "               's15',\n",
    "               's17',\n",
    "               's20',\n",
    "               's21']]\n",
    "    specific_engine_features_scaled = scaler.transform(specific_engine_features)\n",
    "    \n",
    "    # Test the models on this specific engine\n",
    "    results = {}\n",
    "    for model_name, model in models.items():\n",
    "        predictions = model.predict(specific_engine_features_scaled)\n",
    "        results[model_name] = predictions\n",
    "    \n",
    "    return results, specific_engine_data['Life_Class'].values  # Return true labels for comparison\n",
    "\n",
    "# Define available models\n",
    "available_models = {\n",
    "    'Random Forest': rf_model,\n",
    "    'XGBoost': xgb_model,\n",
    "    'SVM': svc_model,\n",
    "    'Logistic Regression': lr_model\n",
    "}\n",
    "\n",
    "# Function to get selected models from user input\n",
    "def select_models():\n",
    "    print(\"Available models:\")\n",
    "    for i, model_name in enumerate(available_models.keys()):\n",
    "        print(f\"{i + 1}. {model_name}\")\n",
    "\n",
    "    # Get user selection\n",
    "    selected_indices = input(\"Select models (comma-separated numbers, e.g., 1,2): \").split(',')\n",
    "    selected_indices = [int(i.strip()) - 1 for i in selected_indices if i.strip().isdigit()]\n",
    "\n",
    "    # Create models dictionary based on user selection\n",
    "    models = {}\n",
    "    for index in selected_indices:\n",
    "        if index >= 0 and index < len(available_models):\n",
    "            model_name = list(available_models.keys())[index]\n",
    "            models[model_name] = available_models[model_name]\n",
    "\n",
    "    return models\n",
    "\n",
    "# Get the models to be used\n",
    "models = select_models()\n",
    "\n",
    "# Now you can use the models dictionary in your classification function\n",
    "\n",
    "# Get engine ID from user input\n",
    "engine_id_to_test = int(input(\"Enter Engine ID to test: \"))\n",
    "\n",
    "# Classify the specific engine using all models\n",
    "classification_results, true_labels = classify_engine(engine_id_to_test, data, models)\n"
   ]
  },
  {
   "cell_type": "code",
   "execution_count": 24,
   "id": "5db30f8a",
   "metadata": {},
   "outputs": [
    {
     "name": "stdout",
     "output_type": "stream",
     "text": [
      "\n",
      "Model: SVM\n",
      "Predicted Classifications: [0 0 0 0 0 0 0 0 0 0 0 0 0 0 0 0 0 0 0 0 0 0 0 0 0 0 0 0 0 0 0 0 0 0 0 0 0\n",
      " 0 0 0 0 0 0 0 0 0 0 0 0 0 0 0 0 0 0 0 0 0 0 0 0 0 0 0 0 0 0 0 0 0 0 0 0 0\n",
      " 0 0 0 0 0 0 0 0 0 0 0 0 0 0 0 0 0 0 0 0 0 0 0 0 0 0 0 0 0 0 0 0]\n",
      "True Labels: [0 0 0 0 0 0 0 0 0 0 0 0 0 0 0 0 0 0 0 0 0 0 0 0 0 0 0 0 0 0 0 0 0 0 0 0 0\n",
      " 0 0 0 0 0 0 0 0 0 0 0 0 0 0 0 0 0 0 0 0 0 0 0 0 0 0 0 0 0 0 0 0 0 0 0 0 0\n",
      " 1 1 1 1 1 1 1 1 1 1 1 1 1 1 1 1 1 1 1 1 1 2 2 2 2 2 2 2 2 2 2 2]\n"
     ]
    },
    {
     "data": {
      "image/png": "[encoded data removed]",
      "text/plain": [
       "<Figure size 1000x400 with 1 Axes>"
      ]
     },
     "metadata": {},
     "output_type": "display_data"
    }
   ],
   "source": [
    "# Display the classification results for the specific engine\n",
    "for model_name, predictions in classification_results.items():\n",
    "    print(f\"\\nModel: {model_name}\")\n",
    "    print(f\"Predicted Classifications: {predictions}\")\n",
    "    print(f\"True Labels: {true_labels}\")\n",
    "\n",
    "# Plot comparison between true and predicted values for each model\n",
    "for model_name, predictions in classification_results.items():\n",
    "    plt.figure(figsize=(10, 4))\n",
    "    plt.plot(predictions, label=f'{model_name} Predictions', linestyle='--', marker='o')\n",
    "    plt.plot(true_labels, label='True Labels', linestyle='-', marker='x')\n",
    "    plt.title(f'Comparison of {model_name} Predictions vs True Labels (Engine {engine_id_to_test})')\n",
    "    plt.xlabel('Engine Cycle')\n",
    "    plt.ylabel('Class (0=Safe, 1=Warning, 2=Critical)')\n",
    "    plt.legend()\n",
    "    plt.show()"
   ]
  },
  {
   "cell_type": "code",
   "execution_count": null,
   "id": "a3a8f3cd",
   "metadata": {},
   "outputs": [],
   "source": []
  }
 ],
 "metadata": {
  "kernelspec": {
   "display_name": "Python 3 (ipykernel)",
   "language": "python",
   "name": "python3"
  },
  "language_info": {
   "codemirror_mode": {
    "name": "ipython",
    "version": 3
   },
   "file_extension": ".py",
   "mimetype": "text/x-python",
   "name": "python",
   "nbconvert_exporter": "python",
   "pygments_lexer": "ipython3",
   "version": "3.11.5"
  }
 },
 "nbformat": 4,
 "nbformat_minor": 5
}
